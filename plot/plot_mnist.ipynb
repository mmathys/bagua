{
 "cells": [
  {
   "cell_type": "code",
   "execution_count": 37,
   "metadata": {},
   "outputs": [],
   "source": [
    "export = True"
   ]
  },
  {
   "cell_type": "code",
   "execution_count": 38,
   "metadata": {},
   "outputs": [],
   "source": [
    "# parse\n",
    "import re\n",
    "loss_regex = r\"Average loss: (\\d+\\.\\d+)\"\n",
    "comp_regex = r\"Bandwidth savings: from \\d+ to \\d+ \\((\\d+\\.\\d+)x\\)\"\n",
    "\n",
    "def parse(file, regex):\n",
    "    nums = []\n",
    "    for line in open(file, \"r\").readlines():\n",
    "        matches = re.search(regex, line)\n",
    "        if matches:\n",
    "            nums.append(float(matches.group(1)))\n",
    "    return nums\n",
    "\n",
    "def parse_loss(file):\n",
    "    return parse(file, loss_regex)\n",
    "\n",
    "def parse_comp_ratio(file):\n",
    "    return parse(file, comp_regex)\n"
   ]
  },
  {
   "cell_type": "code",
   "execution_count": 39,
   "metadata": {},
   "outputs": [
    {
     "data": {
      "text/html": [
       "<div>\n",
       "<style scoped>\n",
       "    .dataframe tbody tr th:only-of-type {\n",
       "        vertical-align: middle;\n",
       "    }\n",
       "\n",
       "    .dataframe tbody tr th {\n",
       "        vertical-align: top;\n",
       "    }\n",
       "\n",
       "    .dataframe thead th {\n",
       "        text-align: right;\n",
       "    }\n",
       "</style>\n",
       "<table border=\"1\" class=\"dataframe\">\n",
       "  <thead>\n",
       "    <tr style=\"text-align: right;\">\n",
       "      <th></th>\n",
       "      <th>loss</th>\n",
       "      <th>name</th>\n",
       "    </tr>\n",
       "  </thead>\n",
       "  <tbody>\n",
       "    <tr>\n",
       "      <th>0</th>\n",
       "      <td>[0.0541, 0.0377, 0.0334, 0.0288, 0.0293, 0.027...</td>\n",
       "      <td>vanilla SGD (no compression)</td>\n",
       "    </tr>\n",
       "    <tr>\n",
       "      <th>1</th>\n",
       "      <td>[0.1987, 0.1354, 0.1158, 0.1002, 0.0933, 0.089...</td>\n",
       "      <td>sketch (compression: 1.0K)</td>\n",
       "    </tr>\n",
       "    <tr>\n",
       "      <th>2</th>\n",
       "      <td>[0.2107, 0.1573, 0.1311, 0.1192, 0.1101, 0.106...</td>\n",
       "      <td>sketch (compression: 3.6K)</td>\n",
       "    </tr>\n",
       "  </tbody>\n",
       "</table>\n",
       "</div>"
      ],
      "text/plain": [
       "                                                loss  \\\n",
       "0  [0.0541, 0.0377, 0.0334, 0.0288, 0.0293, 0.027...   \n",
       "1  [0.1987, 0.1354, 0.1158, 0.1002, 0.0933, 0.089...   \n",
       "2  [0.2107, 0.1573, 0.1311, 0.1192, 0.1101, 0.106...   \n",
       "\n",
       "                           name  \n",
       "0  vanilla SGD (no compression)  \n",
       "1    sketch (compression: 1.0K)  \n",
       "2    sketch (compression: 3.6K)  "
      ]
     },
     "execution_count": 39,
     "metadata": {},
     "output_type": "execute_result"
    }
   ],
   "source": [
    "from os import listdir\n",
    "import pandas as pd\n",
    "\n",
    "data = {\n",
    "    \"loss\": [],\n",
    "    \"name\": []\n",
    "}\n",
    "\n",
    "files = [file for file in listdir(\"benchmarks_mnist\") if \"ignore\" not in file]\n",
    "files.sort(reverse=True)\n",
    "\n",
    "for name in files:\n",
    "    file = f\"benchmarks_mnist/{name}\"\n",
    "    attrs = {}\n",
    "    data[\"loss\"].append(parse_loss(file))\n",
    "\n",
    "    name = name.split(\"_\")[0]\n",
    "\n",
    "    comp = parse_comp_ratio(file)\n",
    "    if len(comp) > 0:\n",
    "        name += f\" (compression: {comp[0]/1000:.1f}K)\"\n",
    "    else:\n",
    "        name += \" (no compression)\"\n",
    "\n",
    "    data[\"name\"].append(name)\n",
    "    \n",
    "\n",
    "df = pd.DataFrame(data)\n",
    "df"
   ]
  },
  {
   "cell_type": "code",
   "execution_count": 40,
   "metadata": {},
   "outputs": [
    {
     "data": {
      "image/png": "[encoded data removed]",
      "text/plain": [
       "<Figure size 576x360 with 1 Axes>"
      ]
     },
     "metadata": {
      "needs_background": "light"
     },
     "output_type": "display_data"
    }
   ],
   "source": [
    "import numpy as np\n",
    "import matplotlib.pyplot as plt\n",
    "    \n",
    "num_epochs = None\n",
    "\n",
    "plt.figure(figsize=(8, 5)) \n",
    "for i, row in df.iterrows():\n",
    "    row_iters = len(row[\"loss\"])\n",
    "    if num_epochs is None: num_epochs = row_iters\n",
    "    else: assert row_iters == num_epochs, \"number of its should be consistent\"\n",
    "    t = np.arange(0, num_epochs)\n",
    "    plt.plot(t, row[\"loss\"], label=row[\"name\"])\n",
    "\n",
    "plt.title(f\"MNIST Training Loss\")\n",
    "plt.xlabel(\"Epoch\")\n",
    "plt.ylabel(\"Training Loss\")\n",
    "#plt.yscale(\"log\")\n",
    "plt.grid(True)\n",
    "plt.legend()\n",
    "if export: plt.savefig(f\"mnist_loss.svg\")\n",
    "plt.show()"
   ]
  }
 ],
 "metadata": {
  "interpreter": {
   "hash": "31f2aee4e71d21fbe5cf8b01ff0e069b9275f58929596ceb00d14d90e3e16cd6"
  },
  "kernelspec": {
   "display_name": "Python 3.8.10 64-bit",
   "language": "python",
   "name": "python3"
  },
  "language_info": {
   "codemirror_mode": {
    "name": "ipython",
    "version": 3
   },
   "file_extension": ".py",
   "mimetype": "text/x-python",
   "name": "python",
   "nbconvert_exporter": "python",
   "pygments_lexer": "ipython3",
   "version": "3.8.5"
  },
  "orig_nbformat": 4
 },
 "nbformat": 4,
 "nbformat_minor": 2
}
