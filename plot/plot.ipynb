{
 "cells": [
  {
   "cell_type": "code",
   "execution_count": 40,
   "metadata": {},
   "outputs": [],
   "source": [
    "export = False"
   ]
  },
  {
   "cell_type": "code",
   "execution_count": 41,
   "metadata": {},
   "outputs": [],
   "source": [
    "# parse\n",
    "import re\n",
    "loss_regex = r\"TrainLoss: (\\d+\\.\\d+)\"\n",
    "tp_regex = r\": (\\d+\\.\\d) img\\/sec\"\n",
    "comp_regex = r\"Bandwidth savings: from \\d+ to \\d+ \\((\\d+\\.\\d+)x\\)\"\n",
    "gpu_regex = r\"Number of GPUs: (\\d)\"\n",
    "\n",
    "def parse(file, regex):\n",
    "    nums = []\n",
    "    for line in open(file, \"r\").readlines():\n",
    "        matches = re.search(regex, line)\n",
    "        if matches:\n",
    "            nums.append(float(matches.group(1)))\n",
    "    return nums\n",
    "\n",
    "def parse_loss(file):\n",
    "    return parse(file, loss_regex)\n",
    "\n",
    "def parse_tp(file):\n",
    "    return parse(file, tp_regex)\n",
    "\n",
    "def parse_comp_ratio(file):\n",
    "    return parse(file, comp_regex)\n",
    "\n",
    "def parse_num_gpu(file):\n",
    "    return parse(file, gpu_regex)"
   ]
  },
  {
   "cell_type": "code",
   "execution_count": 42,
   "metadata": {},
   "outputs": [
    {
     "data": {
      "text/html": [
       "<div>\n",
       "<style scoped>\n",
       "    .dataframe tbody tr th:only-of-type {\n",
       "        vertical-align: middle;\n",
       "    }\n",
       "\n",
       "    .dataframe tbody tr th {\n",
       "        vertical-align: top;\n",
       "    }\n",
       "\n",
       "    .dataframe thead th {\n",
       "        text-align: right;\n",
       "    }\n",
       "</style>\n",
       "<table border=\"1\" class=\"dataframe\">\n",
       "  <thead>\n",
       "    <tr style=\"text-align: right;\">\n",
       "      <th></th>\n",
       "      <th>loss</th>\n",
       "      <th>tp</th>\n",
       "      <th>name</th>\n",
       "      <th>gpu</th>\n",
       "    </tr>\n",
       "  </thead>\n",
       "  <tbody>\n",
       "    <tr>\n",
       "      <th>0</th>\n",
       "      <td>[6.914067, 3.598126, 2.977381, 2.348433, 2.180...</td>\n",
       "      <td>[90.7, 90.3, 90.2, 89.8, 89.6, 89.2, 88.8, 88....</td>\n",
       "      <td>qadam</td>\n",
       "      <td>1.0</td>\n",
       "    </tr>\n",
       "    <tr>\n",
       "      <th>1</th>\n",
       "      <td>[6.914067, 8.547184, 4.836272, 3.688952, 2.924...</td>\n",
       "      <td>[43.2, 43.0, 42.9, 42.6, 42.4, 42.1, 42.1, 41....</td>\n",
       "      <td>sketch (compression: 25,557x)</td>\n",
       "      <td>1.0</td>\n",
       "    </tr>\n",
       "  </tbody>\n",
       "</table>\n",
       "</div>"
      ],
      "text/plain": [
       "                                                loss  \\\n",
       "0  [6.914067, 3.598126, 2.977381, 2.348433, 2.180...   \n",
       "1  [6.914067, 8.547184, 4.836272, 3.688952, 2.924...   \n",
       "\n",
       "                                                  tp  \\\n",
       "0  [90.7, 90.3, 90.2, 89.8, 89.6, 89.2, 88.8, 88....   \n",
       "1  [43.2, 43.0, 42.9, 42.6, 42.4, 42.1, 42.1, 41....   \n",
       "\n",
       "                            name  gpu  \n",
       "0                          qadam  1.0  \n",
       "1  sketch (compression: 25,557x)  1.0  "
      ]
     },
     "execution_count": 42,
     "metadata": {},
     "output_type": "execute_result"
    }
   ],
   "source": [
    "from os import listdir\n",
    "import pandas as pd\n",
    "\n",
    "data = {\n",
    "    \"loss\": [],\n",
    "    \"tp\": [],\n",
    "    \"name\": [],\n",
    "    \"gpu\": []\n",
    "}\n",
    "\n",
    "for name in listdir(\"benchmarks\"):\n",
    "    file = f\"benchmarks/{name}\"\n",
    "    attrs = {}\n",
    "    data[\"loss\"].append(parse_loss(file))\n",
    "    data[\"tp\"].append(parse_tp(file))\n",
    "    \n",
    "    comp = parse_comp_ratio(file)\n",
    "    if len(comp) > 0:\n",
    "        name += f\" (compression: {comp[0]:,.0f}x)\"\n",
    "    \n",
    "    data[\"name\"].append(name)\n",
    "\n",
    "    gpu = parse_num_gpu(file)\n",
    "    if len(gpu) > 0:\n",
    "        data[\"gpu\"].append(gpu[0])\n",
    "    else:\n",
    "        data[\"gpu\"].append(None)\n",
    "    \n",
    "\n",
    "df = pd.DataFrame(data)\n",
    "df"
   ]
  },
  {
   "cell_type": "code",
   "execution_count": 43,
   "metadata": {},
   "outputs": [
    {
     "data": {
      "image/png": "[encoded data removed]",
      "text/plain": [
       "<Figure size 432x288 with 1 Axes>"
      ]
     },
     "metadata": {
      "needs_background": "light"
     },
     "output_type": "display_data"
    }
   ],
   "source": [
    "import numpy as np\n",
    "import matplotlib.pyplot as plt\n",
    "\n",
    "\n",
    "gpus = df[\"gpu\"].unique()\n",
    "gpus.sort()\n",
    "for num_gpu in gpus:\n",
    "    num_iters = None\n",
    "    \n",
    "    for i, row in df[df[\"gpu\"]==num_gpu].iterrows():\n",
    "        row_iters = len(row[\"loss\"])\n",
    "        if num_iters is None: num_iters = row_iters\n",
    "        else: assert row_iters == num_iters, \"number of its should be consistent\"\n",
    "        t = np.arange(0, num_iters*10, 10)\n",
    "        plt.plot(t, row[\"loss\"], label=row[\"name\"])\n",
    "    \n",
    "    plt.title(f\"ResNet-50 Training Loss, num GPU: {num_gpu:.0f}\")\n",
    "    plt.xlabel(\"Batch\")\n",
    "    plt.ylabel(\"Training Loss\")\n",
    "    plt.grid(True)\n",
    "    plt.legend()\n",
    "    if export: plt.savefig(f\"{num_gpu:.0f}-loss.svg\")\n",
    "    plt.show()"
   ]
  },
  {
   "cell_type": "code",
   "execution_count": 44,
   "metadata": {},
   "outputs": [
    {
     "data": {
      "image/png": "[encoded data removed]",
      "text/plain": [
       "<Figure size 432x288 with 1 Axes>"
      ]
     },
     "metadata": {
      "needs_background": "light"
     },
     "output_type": "display_data"
    }
   ],
   "source": [
    "t = np.arange(10, 110, 10)\n",
    "\n",
    "import numpy as np\n",
    "import matplotlib.pyplot as plt\n",
    "\n",
    "gpus = df[\"gpu\"].unique()\n",
    "gpus.sort()\n",
    "for num_gpu in gpus:\n",
    "    num_iters = None\n",
    "    \n",
    "    for i, row in df[df[\"gpu\"]==num_gpu].iterrows():\n",
    "        row_iters = len(row[\"tp\"])\n",
    "        if num_iters is None: num_iters = row_iters\n",
    "        else: assert row_iters == num_iters, \"number of its should be consistent\"\n",
    "        t = np.arange(0, num_iters*10, 10)\n",
    "        plt.plot(t, row[\"tp\"], label=row[\"name\"])\n",
    "\n",
    "    plt.title(f\"ResNet-50 Training Loss, num GPU: {num_gpu:.0f}\")\n",
    "    plt.xlabel(\"Batch\")\n",
    "    plt.ylabel(\"img/sec\")\n",
    "    plt.grid(True)\n",
    "    plt.legend()\n",
    "    plt.ylim(bottom=0)\n",
    "    if export: plt.savefig(f\"{num_gpu:.0f}-tp.svg\")\n",
    "    plt.show()"
   ]
  },
  {
   "cell_type": "code",
   "execution_count": null,
   "metadata": {},
   "outputs": [],
   "source": []
  }
 ],
 "metadata": {
  "interpreter": {
   "hash": "31f2aee4e71d21fbe5cf8b01ff0e069b9275f58929596ceb00d14d90e3e16cd6"
  },
  "kernelspec": {
   "display_name": "Python 3.8.10 64-bit",
   "language": "python",
   "name": "python3"
  },
  "language_info": {
   "codemirror_mode": {
    "name": "ipython",
    "version": 3
   },
   "file_extension": ".py",
   "mimetype": "text/x-python",
   "name": "python",
   "nbconvert_exporter": "python",
   "pygments_lexer": "ipython3",
   "version": "3.8.5"
  },
  "orig_nbformat": 4
 },
 "nbformat": 4,
 "nbformat_minor": 2
}
