{
 "cells": [
  {
   "cell_type": "code",
   "execution_count": 13,
   "metadata": {},
   "outputs": [],
   "source": [
    "# parse\n",
    "import re\n",
    "regex = r\"TrainLoss: (\\d+\\.\\d+)\"\n",
    "\n",
    "def parse(file):\n",
    "    nums = []\n",
    "    for line in open(file, \"r\").readlines():\n",
    "        matches = re.search(regex, line)\n",
    "        if matches:\n",
    "            nums.append(float(matches.group(1)))\n",
    "    return nums"
   ]
  },
  {
   "cell_type": "code",
   "execution_count": 16,
   "metadata": {},
   "outputs": [
    {
     "data": {
      "text/plain": [
       "[7.15908,\n",
       " 6.573359,\n",
       " 6.007544,\n",
       " 5.641936,\n",
       " 5.357438,\n",
       " 5.002855,\n",
       " 4.60601,\n",
       " 4.504026,\n",
       " 4.290434,\n",
       " 3.110006,\n",
       " 2.884984]"
      ]
     },
     "execution_count": 16,
     "metadata": {},
     "output_type": "execute_result"
    }
   ],
   "source": [
    "parse(\"bench-sketch\")"
   ]
  },
  {
   "cell_type": "code",
   "execution_count": 17,
   "metadata": {},
   "outputs": [
    {
     "data": {
      "text/plain": [
       "[7.138481,\n",
       " 3.765308,\n",
       " 3.547871,\n",
       " 3.511544,\n",
       " 3.456021,\n",
       " 3.445448,\n",
       " 3.442348,\n",
       " 3.416593,\n",
       " 3.399659,\n",
       " 3.348593,\n",
       " 3.328049]"
      ]
     },
     "execution_count": 17,
     "metadata": {},
     "output_type": "execute_result"
    }
   ],
   "source": [
    "parse(\"bench-allreduce\")"
   ]
  },
  {
   "cell_type": "code",
   "execution_count": null,
   "metadata": {},
   "outputs": [],
   "source": []
  }
 ],
 "metadata": {
  "interpreter": {
   "hash": "31f2aee4e71d21fbe5cf8b01ff0e069b9275f58929596ceb00d14d90e3e16cd6"
  },
  "kernelspec": {
   "display_name": "Python 3.8.10 64-bit",
   "language": "python",
   "name": "python3"
  },
  "language_info": {
   "codemirror_mode": {
    "name": "ipython",
    "version": 3
   },
   "file_extension": ".py",
   "mimetype": "text/x-python",
   "name": "python",
   "nbconvert_exporter": "python",
   "pygments_lexer": "ipython3",
   "version": "3.8.5"
  },
  "orig_nbformat": 4
 },
 "nbformat": 4,
 "nbformat_minor": 2
}
