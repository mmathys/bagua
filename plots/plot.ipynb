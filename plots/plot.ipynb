{
 "cells": [
  {
   "cell_type": "code",
   "execution_count": null,
   "metadata": {},
   "outputs": [],
   "source": [
    "# parse\n",
    "import re\n",
    "loss_regex = r\"TrainLoss: (\\d+\\.\\d+)\"\n",
    "tp_regex = r\": (\\d+\\.\\d) img\\/sec\"\n",
    "\n",
    "def parse(file, regex):\n",
    "    nums = []\n",
    "    for line in open(file, \"r\").readlines():\n",
    "        matches = re.search(regex, line)\n",
    "        if matches:\n",
    "            nums.append(float(matches.group(1)))\n",
    "    return nums\n",
    "\n",
    "def parse_loss(file):\n",
    "    return parse(file, loss_regex)\n",
    "\n",
    "def parse_tp(file):\n",
    "    return parse(file, tp_regex)"
   ]
  },
  {
   "cell_type": "code",
   "execution_count": null,
   "metadata": {},
   "outputs": [],
   "source": [
    "sketch = parse_loss(\"bench-sketch\")\n",
    "allreduce = parse_loss(\"bench-allreduce\")"
   ]
  },
  {
   "cell_type": "code",
   "execution_count": null,
   "metadata": {},
   "outputs": [],
   "source": [
    "import numpy as np\n",
    "import matplotlib.pyplot as plt\n",
    "t = np.arange(0, 110, 10)\n",
    "plt.plot(t, sketch, label=\"Sketch\")\n",
    "plt.plot(t, allreduce, label=\"AllReduce\")\n",
    "\n",
    "plt.xlabel(\"Batch\")\n",
    "plt.ylabel(\"Training Loss\")\n",
    "plt.grid(True)\n",
    "plt.legend()\n",
    "plt.title(\"Single GPU Benchmark\")\n",
    "\n",
    "plt.show()"
   ]
  },
  {
   "cell_type": "code",
   "execution_count": null,
   "metadata": {},
   "outputs": [],
   "source": []
  }
 ],
 "metadata": {
  "interpreter": {
   "hash": "31f2aee4e71d21fbe5cf8b01ff0e069b9275f58929596ceb00d14d90e3e16cd6"
  },
  "kernelspec": {
   "display_name": "Python 3.8.10 64-bit",
   "language": "python",
   "name": "python3"
  },
  "language_info": {
   "codemirror_mode": {
    "name": "ipython",
    "version": 3
   },
   "file_extension": ".py",
   "mimetype": "text/x-python",
   "name": "python",
   "nbconvert_exporter": "python",
   "pygments_lexer": "ipython3",
   "version": "3.8.5"
  },
  "orig_nbformat": 4
 },
 "nbformat": 4,
 "nbformat_minor": 2
}
